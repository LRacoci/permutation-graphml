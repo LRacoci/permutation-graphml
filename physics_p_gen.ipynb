{
  "nbformat": 4,
  "nbformat_minor": 0,
  "metadata": {
    "colab": {
      "name": "physics_p_gen.ipynb",
      "version": "0.3.2",
      "provenance": [],
      "collapsed_sections": [],
      "toc_visible": true
    },
    "kernelspec": {
      "name": "python2",
      "display_name": "Python 2"
    }
  },
  "cells": [
    {
      "metadata": {
        "cellView": "form",
        "colab_type": "code",
        "id": "k2QMetc6kava",
        "colab": {}
      },
      "cell_type": "code",
      "source": [
        "#@title ##### License\n",
        "# Copyright 2018 The GraphNets Authors. All Rights Reserved.\n",
        "#\n",
        "# Licensed under the Apache License, Version 2.0 (the \"License\");\n",
        "# you may not use this file except in compliance with the License.\n",
        "# You may obtain a copy of the License at\n",
        "#\n",
        "#    http://www.apache.org/licenses/LICENSE-2.0\n",
        "#\n",
        "# Unless required by applicable law or agreed to in writing, software\n",
        "# distributed under the License is distributed on an \"AS IS\" BASIS,\n",
        "# WITHOUT WARRANTIES OR CONDITIONS OF ANY KIND, either express or  implied.\n",
        "# See the License for the specific language governing permissions and\n",
        "# limitations under the License.\n",
        "# ============================================================================"
      ],
      "execution_count": 0,
      "outputs": []
    },
    {
      "metadata": {
        "colab_type": "text",
        "id": "c5CPvyHM2CnU"
      },
      "cell_type": "markdown",
      "source": [
        "# Physical dynamics of a mass-spring system\n",
        "This notebook and the accompanying code demonstrates how to use the Graph Nets library to learn to predict the motion of a set of masses connected by springs.\n",
        "\n",
        "The network is trained to predict the behaviour of a chain of five masses, connected by identical springs. The first and last masses are fixed; the others are subject to gravity.\n",
        "\n",
        "After training, the network's prediction ability is illustrated by comparing its output to the true behaviour of the structure. Then the network's ability to generalise is tested, by using it to predict the behaviour of a similar but more complicated mass/spring structure."
      ]
    },
    {
      "metadata": {
        "cellView": "form",
        "colab_type": "code",
        "id": "Ss54UNGvkz5M",
        "outputId": "bc1dfac6-754f-4fd0-ef5f-52cc70ba0a88",
        "colab": {
          "base_uri": "https://localhost:8080/",
          "height": 304
        }
      },
      "cell_type": "code",
      "source": [
        "#@title ### Install the Graph Nets library on this Colaboratory runtime  { form-width: \"60%\", run: \"auto\"}\n",
        "#@markdown <br>1. Connect to a local or hosted Colaboratory runtime by clicking the **Connect** button at the top-right.<br>2. Choose \"Yes\" below to install the Graph Nets library on the runtime machine with:<br> &nbsp;&nbsp;&nbsp;&nbsp;&nbsp;&nbsp;&nbsp;&nbsp;```pip install graph_nets```<br> Note, this works both with local and hosted Colaboratory runtimes.\n",
        "\n",
        "install_graph_nets_library = \"Yes\"  #@param [\"Yes\", \"No\"]\n",
        "\n",
        "if install_graph_nets_library.lower() == \"yes\":\n",
        "  print(\"Installing Graph Nets library with:\")\n",
        "  print(\"  $ pip install graph_nets\\n\")\n",
        "  print(\"Output message from command:\\n\")\n",
        "  !pip install graph_nets\n",
        "else:\n",
        "  print(\"Skipping installation of Graph Nets library\")"
      ],
      "execution_count": 2,
      "outputs": [
        {
          "output_type": "stream",
          "text": [
            "Installing Graph Nets library with:\n",
            "  $ pip install graph_nets\n",
            "\n",
            "Output message from command:\n",
            "\n",
            "Requirement already satisfied: graph_nets in /usr/local/lib/python2.7/dist-packages (1.0.3)\n",
            "Requirement already satisfied: six in /usr/local/lib/python2.7/dist-packages (from graph_nets) (1.12.0)\n",
            "Requirement already satisfied: numpy in /usr/local/lib/python2.7/dist-packages (from graph_nets) (1.16.3)\n",
            "Requirement already satisfied: setuptools in /usr/local/lib/python2.7/dist-packages (from graph_nets) (41.0.1)\n",
            "Requirement already satisfied: networkx in /usr/local/lib/python2.7/dist-packages (from graph_nets) (2.2)\n",
            "Requirement already satisfied: future in /usr/local/lib/python2.7/dist-packages (from graph_nets) (0.16.0)\n",
            "Requirement already satisfied: absl-py in /usr/local/lib/python2.7/dist-packages (from graph_nets) (0.7.1)\n",
            "Requirement already satisfied: dm-sonnet==1.23 in /usr/local/lib/python2.7/dist-packages (from graph_nets) (1.23)\n",
            "Requirement already satisfied: decorator>=4.3.0 in /usr/local/lib/python2.7/dist-packages (from networkx->graph_nets) (4.4.0)\n",
            "Requirement already satisfied: enum34; python_version < \"3.4\" in /usr/local/lib/python2.7/dist-packages (from absl-py->graph_nets) (1.1.6)\n"
          ],
          "name": "stdout"
        }
      ]
    },
    {
      "metadata": {
        "colab_type": "text",
        "id": "7E4elJkXFR4a"
      },
      "cell_type": "markdown",
      "source": [
        "### Install dependencies locally\n",
        "\n",
        "If you are running this notebook locally (i.e., not through Colaboratory), you will also need to install a few more dependencies. Run the following on the command line to install the graph networks library, as well as a few other dependencies:\n",
        "\n",
        "```\n",
        "pip install graph_nets matplotlib scipy\n",
        "```"
      ]
    },
    {
      "metadata": {
        "colab_type": "text",
        "id": "hyVaNA-bGug3"
      },
      "cell_type": "markdown",
      "source": [
        "# Code"
      ]
    },
    {
      "metadata": {
        "cellView": "both",
        "colab_type": "code",
        "id": "RzKvtoAgRA8e",
        "outputId": "4b1f46ed-1dc8-47dc-ee79-56f0f9d4938f",
        "colab": {
          "base_uri": "https://localhost:8080/",
          "height": 141
        }
      },
      "cell_type": "code",
      "source": [
        "#@title Imports  { form-width: \"30%\" }\n",
        "\n",
        "# The demo dependencies are not installed with the library, but you can install\n",
        "# them with:\n",
        "#\n",
        "# $ pip install jupyter matplotlib scipy\n",
        "#\n",
        "# Run the demo with:\n",
        "#\n",
        "# $ jupyter notebook <path>/<to>/<demos>/shortest_path.ipynb\n",
        "\n",
        "from __future__ import absolute_import\n",
        "from __future__ import division\n",
        "from __future__ import print_function\n",
        "\n",
        "import time\n",
        "\n",
        "from graph_nets import blocks\n",
        "from graph_nets import utils_tf\n",
        "from graph_nets.demos import models\n",
        "from matplotlib import pyplot as plt\n",
        "import numpy as np\n",
        "import sonnet as snt\n",
        "import tensorflow as tf\n",
        "\n",
        "try:\n",
        "  import seaborn as sns\n",
        "except ImportError:\n",
        "  pass\n",
        "else:\n",
        "  sns.reset_orig()\n",
        "\n",
        "# SEED = 1\n",
        "# np.random.seed(SEED)\n",
        "# tf.set_random_seed(SEED)"
      ],
      "execution_count": 3,
      "outputs": [
        {
          "output_type": "stream",
          "text": [
            "\n",
            "WARNING: The TensorFlow contrib module will not be included in TensorFlow 2.0.\n",
            "For more information, please see:\n",
            "  * https://github.com/tensorflow/community/blob/master/rfcs/20180907-contrib-sunset.md\n",
            "  * https://github.com/tensorflow/addons\n",
            "If you depend on functionality not listed there, please file an issue.\n",
            "\n"
          ],
          "name": "stdout"
        }
      ]
    },
    {
      "metadata": {
        "cellView": "both",
        "colab_type": "code",
        "id": "toCQhJIM93en",
        "colab": {}
      },
      "cell_type": "code",
      "source": [
        "def base_graph(n, d):\n",
        "  nodes = np.zeros((n, 5), dtype=np.float32)\n",
        "  half_width = d * n / 2.0\n",
        "  nodes[:, 0] = np.linspace(\n",
        "      -half_width, half_width, num=n, endpoint=False, dtype=np.float32)\n",
        "  # indicate that the first and last masses are fixed\n",
        "  nodes[(0, -1), -1] = 1.\n",
        "\n",
        "  # Edges.\n",
        "  edges, senders, receivers = [], [], []\n",
        "  for i in range(n - 1):\n",
        "    left_node = i\n",
        "    right_node = i + 1\n",
        "    # The 'if' statements prevent incoming edges to fixed ends of the string.\n",
        "    if right_node < n - 1:\n",
        "      # Left incoming edge.\n",
        "      edges.append([50., d])\n",
        "      senders.append(left_node)\n",
        "      receivers.append(right_node)\n",
        "    if left_node > 0:\n",
        "      # Right incoming edge.\n",
        "      edges.append([50., d])\n",
        "      senders.append(right_node)\n",
        "      receivers.append(left_node)\n",
        "\n",
        "  \n",
        "  return {\n",
        "      \"globals\": [0., -10.],\n",
        "      \"nodes\": nodes,\n",
        "      \"edges\": edges,\n",
        "      \"receivers\": list(receivers),\n",
        "      \"senders\": list(senders)\n",
        "  }\n",
        "\n",
        "\n",
        "def permute_graphs(graphs):\n",
        "  \n",
        "  # Permutated graphs\n",
        "  perms = []\n",
        "  \n",
        "  # Generate n permutations\n",
        "  for g in graphs:\n",
        "    # Get number of nodes\n",
        "    n = len(g[\"nodes\"])\n",
        "    # Generate random permutation\n",
        "    p = np.array(np.random.permutation(n))\n",
        "    # Append permutated graph to list\n",
        "    perms.append({\n",
        "      \"globals\": [0., -10.],\n",
        "      \"nodes\": g[\"nodes\"][p],\n",
        "      \"edges\": g[\"edges\"],\n",
        "      \"receivers\": list(p[np.array(g[\"senders\"])]),\n",
        "      \"senders\": list(p[np.array(g[\"receivers\"])])\n",
        "    })\n",
        "    \n",
        "  return perms"
      ],
      "execution_count": 0,
      "outputs": []
    },
    {
      "metadata": {
        "id": "zBZjolB4dqFW",
        "colab_type": "code",
        "outputId": "de738689-045e-4895-9754-41d079bda8ec",
        "colab": {
          "base_uri": "https://localhost:8080/",
          "height": 179
        }
      },
      "cell_type": "code",
      "source": [
        "graphs = [base_graph(n=4, d=4.0)]\n",
        "print(graphs)\n",
        "perms = permute_graphs(graphs)\n",
        "print(perms)"
      ],
      "execution_count": 11,
      "outputs": [
        {
          "output_type": "stream",
          "text": [
            "[{'nodes': array([[-8.,  0.,  0.,  0.,  1.],\n",
            "       [-4.,  0.,  0.,  0.,  0.],\n",
            "       [ 0.,  0.,  0.,  0.,  0.],\n",
            "       [ 4.,  0.,  0.,  0.,  1.]], dtype=float32), 'globals': [0.0, -10.0], 'senders': [0, 1, 2, 3], 'edges': [[50.0, 4.0], [50.0, 4.0], [50.0, 4.0], [50.0, 4.0]], 'receivers': [1, 2, 1, 2]}]\n",
            "[{'nodes': array([[ 0.,  0.,  0.,  0.,  0.],\n",
            "       [-4.,  0.,  0.,  0.,  0.],\n",
            "       [ 4.,  0.,  0.,  0.,  1.],\n",
            "       [-8.,  0.,  0.,  0.,  1.]], dtype=float32), 'globals': [0.0, -10.0], 'senders': [1, 3, 1, 3], 'edges': [[50.0, 4.0], [50.0, 4.0], [50.0, 4.0], [50.0, 4.0]], 'receivers': [2, 1, 3, 0]}]\n"
          ],
          "name": "stdout"
        }
      ]
    },
    {
      "metadata": {
        "id": "jbBjBT5GeXvp",
        "colab_type": "code",
        "colab": {}
      },
      "cell_type": "code",
      "source": [
        ""
      ],
      "execution_count": 0,
      "outputs": []
    }
  ]
}